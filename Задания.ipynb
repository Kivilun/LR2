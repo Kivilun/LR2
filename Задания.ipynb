{
 "cells": [
  {
   "cell_type": "markdown",
   "id": "ef421eb1-8097-4bbb-8cf0-90674f2e9259",
   "metadata": {},
   "source": [
    "# Задания практической работы\n",
    "## Задание 1. Создание и изменение массивов\n",
    "Создайте массив NumPy размером 3×3, содержащий числа от 1 до 9. Умножьте все элементы массива на 2, а затем замените все элементы больше 10 на 0. Выведите итоговый массив."
   ]
  },
  {
   "cell_type": "code",
   "execution_count": 295,
   "id": "cb12e5df-df2a-416d-a23b-d80a0acdea4b",
   "metadata": {},
   "outputs": [],
   "source": [
    "import numpy as np"
   ]
  },
  {
   "cell_type": "code",
   "execution_count": 297,
   "id": "242ac2be-05c4-4d71-80d2-94cc3a54d6e0",
   "metadata": {},
   "outputs": [
    {
     "name": "stdout",
     "output_type": "stream",
     "text": [
      "[[1 2 3]\n",
      " [4 5 6]\n",
      " [7 8 9]]\n"
     ]
    }
   ],
   "source": [
    "arr = np.array([[1, 2, 3], [4, 5, 6], [7, 8, 9]])\n",
    "print(arr)"
   ]
  },
  {
   "cell_type": "code",
   "execution_count": 299,
   "id": "7830c8b0-2aea-4122-a114-f97ead5f4c9d",
   "metadata": {},
   "outputs": [
    {
     "data": {
      "text/plain": [
       "array([[ 2,  4,  6],\n",
       "       [ 8, 10, 12],\n",
       "       [14, 16, 18]])"
      ]
     },
     "execution_count": 299,
     "metadata": {},
     "output_type": "execute_result"
    }
   ],
   "source": [
    "arr=arr*2\n",
    "arr"
   ]
  },
  {
   "cell_type": "code",
   "execution_count": 301,
   "id": "985736e1-53e0-4d8d-ae9f-f7edf0e2e5d7",
   "metadata": {},
   "outputs": [
    {
     "data": {
      "text/plain": [
       "array([[ 2,  4,  6],\n",
       "       [ 8, 10,  0],\n",
       "       [ 0,  0,  0]])"
      ]
     },
     "execution_count": 301,
     "metadata": {},
     "output_type": "execute_result"
    }
   ],
   "source": [
    "arr[arr>10]=0\n",
    "arr"
   ]
  },
  {
   "cell_type": "markdown",
   "id": "5fe09325-e1f0-419f-b2b4-a93b3e5edc5b",
   "metadata": {},
   "source": [
    "## Задание 2. Работа с булевыми масками\n",
    "Создайте массив NumPy из 20 случайных целых чисел от 1 до 100. Найдите и выведите все элементы, которые делятся на 5 без остатка. Затем замените их на -1 и выведите обновленный массив."
   ]
  },
  {
   "cell_type": "code",
   "execution_count": 227,
   "id": "60763470-44ee-4aa6-807f-3339da0af317",
   "metadata": {},
   "outputs": [
    {
     "name": "stdout",
     "output_type": "stream",
     "text": [
      "[58 84 52 92 53 29 62 25 39 41  6  4 99  7 75 71 61 65 50 41]\n"
     ]
    }
   ],
   "source": [
    "arr=np.random.randint(1,101,size=20)\n",
    "print(arr)"
   ]
  },
  {
   "cell_type": "code",
   "execution_count": 229,
   "id": "49d227d3-e463-4a69-bae2-bfcf443e4c11",
   "metadata": {},
   "outputs": [
    {
     "name": "stdout",
     "output_type": "stream",
     "text": [
      "[25 75 65 50]\n"
     ]
    }
   ],
   "source": [
    "print(arr[arr%5==0])"
   ]
  },
  {
   "cell_type": "code",
   "execution_count": 231,
   "id": "cb19139f-3d8b-4908-a4a8-2e1cd8dcdbbe",
   "metadata": {},
   "outputs": [
    {
     "name": "stdout",
     "output_type": "stream",
     "text": [
      "[58 84 52 92 53 29 62 -1 39 41  6  4 99  7 -1 71 61 -1 -1 41]\n"
     ]
    }
   ],
   "source": [
    "arr[arr%5==0]=-1\n",
    "print(arr)"
   ]
  },
  {
   "cell_type": "markdown",
   "id": "50580da2-90e3-4a3d-8b3a-b0c38b167f8f",
   "metadata": {},
   "source": [
    "## Задание 3. Объединение и разбиение массивов\n",
    "Создайте два массива NumPy размером 1×5, заполненные случайными числами от 0 до 50.\n",
    "\n",
    "- Объедините эти массивы в один двумерный массив (по строкам).\n",
    "- Разделите полученный массив на два массива, каждый из которых содержит 5 элементов.\n",
    "\n",
    "Выведите все промежуточные и итоговые результаты."
   ]
  },
  {
   "cell_type": "code",
   "execution_count": 235,
   "id": "e2b08e31-f7d7-4c65-af76-2ed6376fa3a4",
   "metadata": {},
   "outputs": [
    {
     "name": "stdout",
     "output_type": "stream",
     "text": [
      "[[49  1 40 46  3]] \n",
      "\n",
      "[[25 44 33 15  5]]\n"
     ]
    }
   ],
   "source": [
    "a=np.random.randint(1,50,size=(1,5))\n",
    "b=np.random.randint(1,50,size=(1,5))\n",
    "print(a,'\\n')\n",
    "print(b)"
   ]
  },
  {
   "cell_type": "code",
   "execution_count": 237,
   "id": "8840f0b8-fa08-4f7d-9b60-47dbe35f752c",
   "metadata": {},
   "outputs": [
    {
     "name": "stdout",
     "output_type": "stream",
     "text": [
      "[[49  1 40 46  3]\n",
      " [25 44 33 15  5]]\n"
     ]
    }
   ],
   "source": [
    "c=np.concatenate((a,b),axis=0)\n",
    "print(c)"
   ]
  },
  {
   "cell_type": "code",
   "execution_count": 239,
   "id": "a26f3270-1b66-4749-ab90-2440c2197d73",
   "metadata": {},
   "outputs": [
    {
     "data": {
      "text/plain": [
       "[(array([49,  1, 40, 46,  3]),), (array([25, 44, 33, 15,  5]),)]"
      ]
     },
     "execution_count": 239,
     "metadata": {},
     "output_type": "execute_result"
    }
   ],
   "source": [
    "list(zip((c)))"
   ]
  },
  {
   "cell_type": "markdown",
   "id": "9398f0aa-ee70-43cd-9fd6-8a1bf318e4b7",
   "metadata": {},
   "source": [
    "## Задание 4. Генерация и работа с линейными последовательностями\n",
    "Создайте массив из 50 чисел, равномерно распределенных от -10 до 10. Вычислите сумму всех элементов, сумму положительных элементов и сумму отрицательных элементов. Выведите результаты."
   ]
  },
  {
   "cell_type": "code",
   "execution_count": 242,
   "id": "c5967607-43bf-4639-9d5f-39373dd80357",
   "metadata": {},
   "outputs": [
    {
     "name": "stdout",
     "output_type": "stream",
     "text": [
      "[-10.          -9.59183673  -9.18367347  -8.7755102   -8.36734694\n",
      "  -7.95918367  -7.55102041  -7.14285714  -6.73469388  -6.32653061\n",
      "  -5.91836735  -5.51020408  -5.10204082  -4.69387755  -4.28571429\n",
      "  -3.87755102  -3.46938776  -3.06122449  -2.65306122  -2.24489796\n",
      "  -1.83673469  -1.42857143  -1.02040816  -0.6122449   -0.20408163\n",
      "   0.20408163   0.6122449    1.02040816   1.42857143   1.83673469\n",
      "   2.24489796   2.65306122   3.06122449   3.46938776   3.87755102\n",
      "   4.28571429   4.69387755   5.10204082   5.51020408   5.91836735\n",
      "   6.32653061   6.73469388   7.14285714   7.55102041   7.95918367\n",
      "   8.36734694   8.7755102    9.18367347   9.59183673  10.        ]\n"
     ]
    }
   ],
   "source": [
    "arr = np.linspace(-10, 10, 50)\n",
    "print(arr)"
   ]
  },
  {
   "cell_type": "code",
   "execution_count": 244,
   "id": "a23d231a-b922-44bc-ba7f-c08c3e430742",
   "metadata": {},
   "outputs": [
    {
     "data": {
      "text/plain": [
       "7.105427357601002e-15"
      ]
     },
     "execution_count": 244,
     "metadata": {},
     "output_type": "execute_result"
    }
   ],
   "source": [
    "np.sum(arr)"
   ]
  },
  {
   "cell_type": "code",
   "execution_count": 246,
   "id": "ecbf5e51-cc64-4246-b3ad-0a1526a2f1f5",
   "metadata": {},
   "outputs": [
    {
     "name": "stdout",
     "output_type": "stream",
     "text": [
      "127.55102040816328\n",
      "-127.55102040816327\n"
     ]
    }
   ],
   "source": [
    "print(np.sum(arr[arr>0]))\n",
    "print(np.sum(arr[arr<0]))"
   ]
  },
  {
   "cell_type": "markdown",
   "id": "caba62d9-5af5-4381-9f20-41c9f813ce98",
   "metadata": {},
   "source": [
    "## Задание 5. Работа с диагональными и единичными матрицами\n",
    "Создайте:\n",
    "\n",
    "- Единичную матрицу размером 4×4.\n",
    "- Диагональную матрицу размером 4×4 с диагональными элементами [5, 10, 15, 20] (не использовать циклы).\n",
    "                                                                                \n",
    "Найдите сумму всех элементов каждой из этих матриц и сравните результаты."
   ]
  },
  {
   "cell_type": "code",
   "execution_count": 249,
   "id": "9cbc465a-8618-4a89-8cdb-b0ac8fe76695",
   "metadata": {},
   "outputs": [
    {
     "data": {
      "text/plain": [
       "array([[1., 0., 0., 0.],\n",
       "       [0., 1., 0., 0.],\n",
       "       [0., 0., 1., 0.],\n",
       "       [0., 0., 0., 1.]])"
      ]
     },
     "execution_count": 249,
     "metadata": {},
     "output_type": "execute_result"
    }
   ],
   "source": [
    "a=np.eye(4,4)\n",
    "a"
   ]
  },
  {
   "cell_type": "code",
   "execution_count": 251,
   "id": "033830e5-e35e-40c0-b293-36a8c37e3a04",
   "metadata": {},
   "outputs": [
    {
     "data": {
      "text/plain": [
       "array([[ 5,  0,  0,  0],\n",
       "       [ 0, 10,  0,  0],\n",
       "       [ 0,  0, 15,  0],\n",
       "       [ 0,  0,  0, 20]])"
      ]
     },
     "execution_count": 251,
     "metadata": {},
     "output_type": "execute_result"
    }
   ],
   "source": [
    "b=np.matrix('5 0 0 0;0 10 0 0; 0 0 15 0; 0 0 0 20')\n",
    "b=np.array(b)\n",
    "b"
   ]
  },
  {
   "cell_type": "code",
   "execution_count": 253,
   "id": "38e9a091-6230-4c0e-ae72-03b283cb1236",
   "metadata": {},
   "outputs": [
    {
     "name": "stdout",
     "output_type": "stream",
     "text": [
      "False True False\n"
     ]
    }
   ],
   "source": [
    "a_s=np.sum(a)\n",
    "b_s=np.sum(b)\n",
    "print(a_s>b_s,a_s<b_s,a_s==b_s)"
   ]
  },
  {
   "cell_type": "markdown",
   "id": "bdef437f-bacf-4912-8c0c-bce62b07bb34",
   "metadata": {},
   "source": [
    "## Задание 6. Создание и базовые операции с матрицами\n",
    "Создайте две квадратные матрицы NumPy размером 3×3, заполненные случайными целыми числами от 1 до 20. Вычислите и выведите:\n",
    "\n",
    "- Их сумму\n",
    "- Их разность\n",
    "- Их поэлементное произведение"
   ]
  },
  {
   "cell_type": "code",
   "execution_count": 256,
   "id": "44924fba-854e-477c-8360-0593d7a7d192",
   "metadata": {},
   "outputs": [],
   "source": [
    "a=np.random.randint(1,20,size=(3,3))\n",
    "b=np.random.randint(1,20,size=(3,3))"
   ]
  },
  {
   "cell_type": "code",
   "execution_count": 258,
   "id": "1eed9a03-e528-4b0b-980b-b66dd2a92bd2",
   "metadata": {},
   "outputs": [
    {
     "name": "stdout",
     "output_type": "stream",
     "text": [
      "[[31 11 17]\n",
      " [15 31 11]\n",
      " [14 15 12]] \n",
      "\n",
      " [[-5 -9 15]\n",
      " [ 1  1  1]\n",
      " [-2 -1 -6]] \n",
      "\n",
      " [[234  10  16]\n",
      " [ 56 240  30]\n",
      " [ 48  56  27]]\n"
     ]
    }
   ],
   "source": [
    "print((a+b),'\\n\\n',(a-b),'\\n\\n',(a*b))"
   ]
  },
  {
   "cell_type": "markdown",
   "id": "18094a35-3bdb-48ae-a9f4-419fdeb09a50",
   "metadata": {},
   "source": [
    "## Задание 7. Умножение матриц\n",
    "Создайте две матрицы NumPy:\n",
    "\n",
    "- Первую размером 2×3, заполненную случайными числами от 1 до 10.\n",
    "- Вторую размером 3×2, заполненную случайными числами от 1 до 10.\n",
    "\n",
    "Выполните матричное умножение (@ или np.dot) и выведите результат."
   ]
  },
  {
   "cell_type": "code",
   "execution_count": 265,
   "id": "09749f3e-6779-43ac-8480-01ee16459adb",
   "metadata": {},
   "outputs": [
    {
     "name": "stdout",
     "output_type": "stream",
     "text": [
      "[[36 15]\n",
      " [78 30]]\n"
     ]
    }
   ],
   "source": [
    "a=np.random.randint(1,10,size=(2,3))\n",
    "b=np.random.randint(1,10,size=(3,2))\n",
    "print(np.dot(a,b))"
   ]
  },
  {
   "cell_type": "markdown",
   "id": "5a50feb4-5c1f-4210-b4ce-410233abb30d",
   "metadata": {},
   "source": [
    "## Задание 8. Определитель и обратная матрица\n",
    "Создайте случайную квадратную матрицу 3×3. Найдите и выведите:\n",
    "\n",
    "- Определитель этой матрицы\n",
    "- Обратную матрицу (если существует, иначе выведите сообщение, что матрица вырождена) \n",
    "\n",
    "Используйте функции np.linalg.det и np.linalg.inv"
   ]
  },
  {
   "cell_type": "code",
   "execution_count": 268,
   "id": "ed9796b8-89ab-4118-af69-bf8e704e0007",
   "metadata": {},
   "outputs": [],
   "source": [
    "a=np.random.randint(1,100,size=(3,3))"
   ]
  },
  {
   "cell_type": "code",
   "execution_count": 270,
   "id": "900f7ff6-c499-42d1-ac7d-355911df2d20",
   "metadata": {},
   "outputs": [
    {
     "name": "stdout",
     "output_type": "stream",
     "text": [
      "-28779.000000000036\n"
     ]
    }
   ],
   "source": [
    "print(np.linalg.det(a))"
   ]
  },
  {
   "cell_type": "code",
   "execution_count": 274,
   "id": "57ce07c7-b356-45fe-a0bd-58d0bcf1dec7",
   "metadata": {},
   "outputs": [
    {
     "name": "stdout",
     "output_type": "stream",
     "text": [
      "[[-0.04402516 -0.03926474  0.06164217]\n",
      " [ 0.01257862  0.03568574 -0.03655443]\n",
      " [ 0.11320755  0.05597832 -0.09142083]]\n"
     ]
    }
   ],
   "source": [
    "if np.linalg.det(a):\n",
    "    print(np.linalg.inv(a))\n",
    "else:\n",
    "    print(\"Матрица вырождена\")"
   ]
  },
  {
   "cell_type": "markdown",
   "id": "29b92213-671a-4116-a92a-24bb36427885",
   "metadata": {},
   "source": [
    "## Задание 9. Транспонирование и след матрицы\n",
    "Создайте матрицу NumPy размером 4×4, содержащую случайные целые числа от 1 до 50. Выведите:\n",
    "\n",
    "- Исходную матрицу\n",
    "- Транспонированную матрицу\n",
    "- След матрицы (сумму элементов на главной диагонали)\n",
    "\n",
    "Используйте np.trace для нахождения следа."
   ]
  },
  {
   "cell_type": "code",
   "execution_count": 277,
   "id": "3d2f5a80-2eb0-40aa-a233-9eead925b4c2",
   "metadata": {},
   "outputs": [],
   "source": [
    "a=np.random.randint(1,50,size=(4,4))"
   ]
  },
  {
   "cell_type": "code",
   "execution_count": 279,
   "id": "45f19e00-cf91-4880-b93a-6c4e343583d6",
   "metadata": {},
   "outputs": [
    {
     "name": "stdout",
     "output_type": "stream",
     "text": [
      "[[10  1  6 20]\n",
      " [29 26 21 10]\n",
      " [29 21 20  9]\n",
      " [39 29 13 21]]\n"
     ]
    }
   ],
   "source": [
    "print(a)"
   ]
  },
  {
   "cell_type": "code",
   "execution_count": 281,
   "id": "eee20039-a2d7-4af1-94b0-64317c21dca3",
   "metadata": {},
   "outputs": [
    {
     "name": "stdout",
     "output_type": "stream",
     "text": [
      "[[10 29 29 39]\n",
      " [ 1 26 21 29]\n",
      " [ 6 21 20 13]\n",
      " [20 10  9 21]]\n"
     ]
    }
   ],
   "source": [
    "print(a.T)"
   ]
  },
  {
   "cell_type": "code",
   "execution_count": 283,
   "id": "f9d3c4bd-7dac-45f5-a242-594b4af1560a",
   "metadata": {},
   "outputs": [
    {
     "name": "stdout",
     "output_type": "stream",
     "text": [
      "77\n"
     ]
    }
   ],
   "source": [
    "print(np.sum(np.diag(a)))"
   ]
  },
  {
   "cell_type": "markdown",
   "id": "159f0d86-ea65-4e6c-8008-431bf2406929",
   "metadata": {},
   "source": [
    "## Задание 10. Системы линейных уравнений\n",
    "Решите систему линейных уравнений вида:\n",
    "\n",
    "$$\n",
    "\\begin{cases}\n",
    "2x + 3y - z = 5 \\\\\n",
    "4x - y + 2z = 6 \\\\\n",
    "-3x + 5y + 4z = -2\n",
    "\\end{cases}\n",
    "$$\n",
    "\n",
    "Используйте матричное представление $Ax = B$, где $A$ — матрица коэффициентов, $x$ — вектор неизвестных, $B$ — вектор правой части. Решите систему с помощью `np.linalg.solve` и выведите результат.\n"
   ]
  },
  {
   "cell_type": "code",
   "execution_count": 330,
   "id": "568ef82c-8aa7-4da4-8f57-007b406c4480",
   "metadata": {},
   "outputs": [
    {
     "data": {
      "text/plain": [
       "array([[ 2,  3, -1],\n",
       "       [ 4, -1,  2],\n",
       "       [-3,  5,  4]])"
      ]
     },
     "execution_count": 330,
     "metadata": {},
     "output_type": "execute_result"
    }
   ],
   "source": [
    "A=np.matrix('2 3 -1;4 -1 2;-3 5 4')\n",
    "A=np.array(A)\n",
    "A"
   ]
  },
  {
   "cell_type": "code",
   "execution_count": 290,
   "id": "c4d513f9-4080-4849-ac86-e6a7090aaef2",
   "metadata": {},
   "outputs": [],
   "source": [
    "B = np.array([5, 6, -2])"
   ]
  },
  {
   "cell_type": "code",
   "execution_count": 292,
   "id": "393356f1-7f1c-45dc-8f17-2dddf19fcda4",
   "metadata": {},
   "outputs": [
    {
     "name": "stdout",
     "output_type": "stream",
     "text": [
      "[1.63963964 0.57657658 0.00900901]\n"
     ]
    }
   ],
   "source": [
    "sol = np.linalg.solve(A, B)\n",
    "print(sol)"
   ]
  },
  {
   "cell_type": "markdown",
   "id": "ccd732bd-4736-4539-9c86-e34483914019",
   "metadata": {},
   "source": [
    "## Задание 11. Индивидуальное задание\n",
    "### Вариант 22\n",
    "**Распределение товара по складам**. Магазин получил 600 коробок с товаром, которые нужно распределить по трем складам. На второй склад должно быть отправлено на 50 коробок больше, чем на первый, а на третий склад — в два раза больше, чем на второй. Сколько коробок отправят на каждый склад?"
   ]
  },
  {
   "cell_type": "code",
   "execution_count": 348,
   "id": "748967c1-3797-4f79-bfa0-c66b684af59b",
   "metadata": {},
   "outputs": [
    {
     "name": "stdout",
     "output_type": "stream",
     "text": [
      "Решение методом np.linalg.solve:\n",
      "x = 500.0, второй склад = 100.0, третий склад = 200.0\n",
      "\n",
      "Решение методом Крамера:\n",
      "x = 499.9999999999999, второй склад = 99.99999999999997, третий склад = 199.99999999999994\n",
      "\n",
      "Решение матричным методом:\n",
      "x = 500, второй склад = 100, третий склад = 200\n"
     ]
    }
   ],
   "source": [
    "import numpy as np\n",
    "\n",
    "A = np.array([\n",
    "    [1, 1, 2],  # 1x + 1(x+50) + 2(x+50)\n",
    "    [0, 1, 0],  # На второй склад на 50 больше, чем на первый\n",
    "    [0, 0, 2]   # На третий склад в два раза больше, чем на второй\n",
    "])\n",
    "\n",
    "B = np.array([600, 50, 50])\n",
    "\n",
    "# numpy\n",
    "solution = np.linalg.solve(A, B)\n",
    "print(\"Решение методом np.linalg.solve:\")\n",
    "print(f\"x = {solution[0]}, второй склад = {solution[1] + 50}, третий склад = {2 * (solution[1] + 50)}\")\n",
    "\n",
    "# метод Крамера\n",
    "det_A = np.linalg.det(A)\n",
    "\n",
    "A_x = A.copy()\n",
    "A_x[:, 0] = B\n",
    "det_Ax = np.linalg.det(A_x)\n",
    "x = det_Ax / det_A\n",
    "\n",
    "A_y = A.copy()\n",
    "A_y[:, 1] = B\n",
    "det_Ay = np.linalg.det(A_y)\n",
    "y = det_Ay / det_A\n",
    "\n",
    "A_z = A.copy()\n",
    "A_z[:, 2] = B\n",
    "det_Az = np.linalg.det(A_z)\n",
    "z = det_Az / det_A\n",
    "\n",
    "print(\"\\nРешение методом Крамера:\")\n",
    "print(f\"x = {x}, второй склад = {y + 50}, третий склад = {2 * (y + 50)}\")\n",
    "\n",
    "# Матричный метод\n",
    "A_inv = np.linalg.inv(A)\n",
    "solution_matrix = np.dot(A_inv, B)\n",
    "print(\"\\nРешение матричным методом:\")\n",
    "print(f\"x = {round(solution_matrix[0])}, второй склад = {round(solution_matrix[1] + 50)}, третий склад = {round(2 * (solution_matrix[1] + 50))}\")\n"
   ]
  }
 ],
 "metadata": {
  "kernelspec": {
   "display_name": "Python [conda env:base] *",
   "language": "python",
   "name": "conda-base-py"
  },
  "language_info": {
   "codemirror_mode": {
    "name": "ipython",
    "version": 3
   },
   "file_extension": ".py",
   "mimetype": "text/x-python",
   "name": "python",
   "nbconvert_exporter": "python",
   "pygments_lexer": "ipython3",
   "version": "3.12.7"
  }
 },
 "nbformat": 4,
 "nbformat_minor": 5
}
